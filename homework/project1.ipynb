{
 "cells": [
  {
   "cell_type": "markdown",
   "metadata": {},
   "source": [
    "## Project 1\n",
    "## Pranav Bhogal"
   ]
  },
  {
   "cell_type": "code",
   "execution_count": 21,
   "metadata": {},
   "outputs": [],
   "source": [
    "using Printf\n",
    "using Plots\n",
    "using LaTeXStrings"
   ]
  },
  {
   "cell_type": "markdown",
   "metadata": {},
   "source": [
    "## Question 1"
   ]
  },
  {
   "cell_type": "code",
   "execution_count": 22,
   "metadata": {},
   "outputs": [
    {
     "data": {
      "text/plain": [
       "bisection (generic function with 1 method)"
      ]
     },
     "metadata": {},
     "output_type": "display_data"
    }
   ],
   "source": [
    "function bisection(a::Real, b::Real, f::Function; abs_tol = 1e-5, max_iters = 100)\n",
    "    # Check that the conditions of the algorithm are satisfied and we have not already located a zero\n",
    "    @assert f(a)*f(b) ≤ 0 \"Not in an interval with a sign change!\"\n",
    "    @assert (f(a) != 0) & (f(b) != 0) \"One or both of the endpoints are zeros!\"\n",
    "    \n",
    "    converged = false\n",
    "    n = 0\n",
    "    \n",
    "    while !converged\n",
    "        n += 1\n",
    "        \n",
    "        # Main step for algorithm\n",
    "        p = (a + b)/2\n",
    "        if f(a)*f(p) < 0\n",
    "             b = p\n",
    "        elseif f(b)*f(p) < 0\n",
    "            a = p\n",
    "        else\n",
    "            println(\"Found exact zero at midpoint of iteration $(n)\")\n",
    "            return p\n",
    "        end\n",
    "        \n",
    "        # Status updates\n",
    "        println(\"n: $(n), a: $(a), b: $(b), abserr: $(b-a)\")\n",
    "        \n",
    "        # Check convergence\n",
    "        if b - a < abs_tol\n",
    "            converged = true\n",
    "            return p\n",
    "        end\n",
    "        \n",
    "        # Return if algorithm does not converge\n",
    "        if n == max_iters\n",
    "            println(\"Did not converge in $(max_iters) iterations! Returning last value of p.\")\n",
    "            return p\n",
    "        end\n",
    "    end\n",
    "end"
   ]
  },
  {
   "cell_type": "markdown",
   "metadata": {},
   "source": [
    "## part a"
   ]
  },
  {
   "cell_type": "code",
   "execution_count": 23,
   "metadata": {},
   "outputs": [
    {
     "ename": "ErrorException",
     "evalue": "invalid redefinition of constant a",
     "output_type": "error",
     "traceback": [
      "invalid redefinition of constant a\n",
      "\n",
      "Stacktrace:\n",
      " [1] top-level scope\n",
      "   @ c:\\Users\\prana\\OneDrive\\Documents\\GitHub\\Math_300_2022\\homework\\project1.ipynb:1"
     ]
    }
   ],
   "source": [
    "a = 2\n",
    "b = 3\n",
    "@show n_max= ceil(Int, log2(10^8 * (b-a)));"
   ]
  },
  {
   "cell_type": "markdown",
   "metadata": {},
   "source": [
    "## part b"
   ]
  },
  {
   "cell_type": "code",
   "execution_count": 24,
   "metadata": {},
   "outputs": [
    {
     "name": "stdout",
     "output_type": "stream",
     "text": [
      "n: 1, a: 2.5, b: 3, abserr: 0.5\n",
      "n: 2, a: 2.75, b: 3, abserr: 0.25\n",
      "n: 3, a: 2.875, b: 3, abserr: 0.125\n",
      "n: 4, a: 2.875, b: 2.9375, abserr: 0.0625\n",
      "n: 5, a: 2.90625, b: 2.9375, abserr: 0.03125\n",
      "n: 6, a: 2.921875, b: 2.9375, abserr: 0.015625\n",
      "n: 7, a: 2.921875, b: 2.9296875, abserr: 0.0078125\n",
      "n: 8, a: 2.921875, b: 2.92578125, abserr: 0.00390625\n",
      "n: 9, a: 2.923828125, b: 2.92578125, abserr: 0.001953125\n",
      "n: 10, a: 2.923828125, b: 2.9248046875, abserr: 0.0009765625\n",
      "n: 11, a: 2.923828125, b: 2.92431640625, abserr: 0.00048828125\n",
      "n: 12, a: 2.923828125, b: 2.924072265625, abserr: 0.000244140625\n",
      "n: 13, a: 2.9239501953125, b: 2.924072265625, abserr: 0.0001220703125\n",
      "n: 14, a: 2.92401123046875, b: 2.924072265625, abserr: 6.103515625e-5\n",
      "n: 15, a: 2.92401123046875, b: 2.924041748046875, abserr: 3.0517578125e-5\n",
      "n: 16, a: 2.92401123046875, b: 2.9240264892578125, abserr: 1.52587890625e-5\n",
      "n: 17, a: 2.92401123046875, b: 2.9240188598632812, abserr: 7.62939453125e-6\n",
      "n: 18, a: 2.9240150451660156, b: 2.9240188598632812, abserr: 3.814697265625e-6\n",
      "n: 19, a: 2.9240169525146484, b: 2.9240188598632812, abserr: 1.9073486328125e-6\n",
      "n: 20, a: 2.9240169525146484, b: 2.924017906188965, abserr: 9.5367431640625e-7\n",
      "n: 21, a: 2.9240174293518066, b: 2.924017906188965, abserr: 4.76837158203125e-7\n",
      "n: 22, a: 2.9240176677703857, b: 2.924017906188965, abserr: 2.384185791015625e-7\n",
      "n: 23, a: 2.9240176677703857, b: 2.9240177869796753, abserr: 1.1920928955078125e-7\n",
      "n: 24, a: 2.9240177273750305, b: 2.9240177869796753, abserr: 5.960464477539063e-8\n",
      "n: 25, a: 2.9240177273750305, b: 2.924017757177353, abserr: 2.9802322387695312e-8\n",
      "n: 26, a: 2.9240177273750305, b: 2.9240177422761917, abserr: 1.4901161193847656e-8\n",
      "n: 27, a: 2.924017734825611, b: 2.9240177422761917, abserr: 7.450580596923828e-9\n"
     ]
    },
    {
     "data": {
      "text/plain": [
       "2.924017734825611"
      ]
     },
     "metadata": {},
     "output_type": "display_data"
    }
   ],
   "source": [
    "f(x) = x^3 - 25\n",
    "bisection(2, 3, f, abs_tol = 1e-8)"
   ]
  },
  {
   "cell_type": "code",
   "execution_count": 25,
   "metadata": {},
   "outputs": [
    {
     "data": {
      "text/plain": [
       "newton (generic function with 1 method)"
      ]
     },
     "metadata": {},
     "output_type": "display_data"
    }
   ],
   "source": [
    "function newton(f, df, p0, n_max, rel_tol; verbose = true)\n",
    "    \n",
    "    converged = false;\n",
    "    p = p0;\n",
    "    p_old = p0;\n",
    "\n",
    "    for i in 1:n_max\n",
    "\n",
    "        p = p_old - f(p_old)/df(p_old);\n",
    "        \n",
    "        if verbose\n",
    "            println(\"n: $(i), p: $(p), f(p): $(f(p)), abserr: $(p - p_old)\")\n",
    "        end\n",
    "\n",
    "        \n",
    "        if (i>1)\n",
    "            if abs(p-p_old)/abs(p)< rel_tol\n",
    "                converged = true;\n",
    "                break\n",
    "            end\n",
    "        end\n",
    "\n",
    "        p_old = p;\n",
    "\n",
    "    end\n",
    "    \n",
    "    if !converged\n",
    "        @printf(\"ERROR: Did not converge after %d iterations\\n\", n_max);\n",
    "    end\n",
    "\n",
    "    return p\n",
    "    \n",
    "end"
   ]
  },
  {
   "cell_type": "markdown",
   "metadata": {},
   "source": [
    "## part c"
   ]
  },
  {
   "cell_type": "code",
   "execution_count": 26,
   "metadata": {},
   "outputs": [
    {
     "name": "stdout",
     "output_type": "stream",
     "text": [
      "n: 1, p: 2.925925925925926, f(p): 0.04897627394198523, abserr: -0.07407407407407396\n",
      "n: 2, p: 2.924018982396379, f(p): 3.1912871790495956e-5, abserr: -0.0019069435295469006\n",
      "n: 3, p: 2.9240177382133954, f(p): 1.3578471680375515e-11, abserr: -1.244182983750619e-6\n",
      "n: 4, p: 2.924017738212866, f(p): -3.552713678800501e-15, abserr: -5.293543381412746e-13\n"
     ]
    }
   ],
   "source": [
    "f(x) = x^3 - 25;\n",
    "df = x->3*x^2;\n",
    "p0 = 3;\n",
    "rel_tol = 1e-8;\n",
    "n_max = 100;\n",
    "\n",
    "p = newton(f, df, p0, n_max, rel_tol);"
   ]
  },
  {
   "cell_type": "markdown",
   "metadata": {},
   "source": [
    "## part d"
   ]
  },
  {
   "cell_type": "markdown",
   "metadata": {},
   "source": [
    "The number of significant digits increases relatively slowly and in a linear fashion for the bisection method. In newton's method the number of significant digits was large right from the begining."
   ]
  },
  {
   "cell_type": "markdown",
   "metadata": {},
   "source": [
    "## Question 2"
   ]
  },
  {
   "cell_type": "markdown",
   "metadata": {},
   "source": [
    "## part a"
   ]
  },
  {
   "cell_type": "code",
   "execution_count": 27,
   "metadata": {},
   "outputs": [
    {
     "name": "stdout",
     "output_type": "stream",
     "text": [
      "n: 1, p: -0.04072398190045249, f(p): 0.01434289269106337, abserr: -0.04072398190045249\n",
      "n: 2, p: -0.0406592884873237, f(p): 3.803668491286771e-8, abserr: 6.469341312879268e-5\n",
      "n: 3, p: -0.04065928831575886, f(p): 0.0, abserr: 1.715648387246027e-10\n"
     ]
    }
   ],
   "source": [
    "f(x) = 230*x^4 + 18*x^3 + 9*x^2 - 221*x - 9;\n",
    "df = x->920*x^3 + 54*x^2 + 18*x - 221\n",
    "rel_tol = 1e-6;\n",
    "n_max = 100;\n",
    "p0 = 0;\n",
    "\n",
    "p = newton(f, df, p0, n_max, rel_tol);"
   ]
  },
  {
   "cell_type": "code",
   "execution_count": 28,
   "metadata": {},
   "outputs": [
    {
     "name": "stdout",
     "output_type": "stream",
     "text": [
      "n: 1, p: 0.9649805447470817, f(p): 1.729702780624109, abserr: -0.035019455252918275\n",
      "n: 2, p: 0.96241172497926, f(p): 0.008867662019611089, abserr: -0.0025688197678217506\n",
      "n: 3, p: 0.9623984191063186, f(p): 2.3709401375526795e-7, abserr: -1.3305872941349328e-5\n",
      "n: 4, p: 0.9623984187505414, f(p): 0.0, abserr: -3.557771854900693e-10\n"
     ]
    }
   ],
   "source": [
    "p0 = 1;\n",
    "p = newton(f, df, p0, n_max, rel_tol);"
   ]
  },
  {
   "cell_type": "code",
   "execution_count": 29,
   "metadata": {},
   "outputs": [
    {
     "data": {
      "text/plain": [
       "secant (generic function with 1 method)"
      ]
     },
     "metadata": {},
     "output_type": "display_data"
    }
   ],
   "source": [
    "function secant(f, p0, p1, n_max, rel_tol; verbose = true)\n",
    "    \n",
    "    converged = false;\n",
    "    \n",
    "    p = p0;\n",
    "    for i in 1:n_max\n",
    "\n",
    "        p = p1 - f(p1) * (p1-p0)/(f(p1)-f(p0));\n",
    "        \n",
    "        if verbose\n",
    "            @printf(\" %d: p = %.12g, f(p) = %g\\n\", i, p, f(p));\n",
    "        end\n",
    "\n",
    "        \n",
    "        if (i>1)\n",
    "            if abs(p-p1)/abs(p1)< rel_tol\n",
    "                converged = true;\n",
    "                break\n",
    "            end\n",
    "        end\n",
    "        p0 = p1;\n",
    "        p1 = p;\n",
    "\n",
    "    end\n",
    "    \n",
    "    if !converged\n",
    "        @printf(\"ERROR: Did not converge after %d iterations\\n\", n_max);\n",
    "    end\n",
    "\n",
    "    return p\n",
    "    \n",
    "end"
   ]
  },
  {
   "cell_type": "markdown",
   "metadata": {},
   "source": [
    "## part b"
   ]
  },
  {
   "cell_type": "code",
   "execution_count": 30,
   "metadata": {},
   "outputs": [
    {
     "name": "stdout",
     "output_type": "stream",
     "text": [
      " 1: p = 0.99201655825, f(p) = 20.9363\n",
      " 2: p = 0.98578780779, f(p) = 16.3312\n",
      " 3: p = 0.963698523111, f(p) = 0.86867\n",
      " 4: p = 0.962457566912, f(p) = 0.0394217\n",
      " 5: p = 0.962398572997, f(p) = 0.000102792\n",
      " 6: p = 0.962398418769, f(p) = 1.22166e-08\n"
     ]
    }
   ],
   "source": [
    "f(x) = 230*x^4 + 18*x^3 + 9*x^2 - 221*x - 9;\n",
    "p0 = 1;\n",
    "p1 = 2;\n",
    "rel_tol = 1e-6;\n",
    "n_max = 100;\n",
    "\n",
    "p = secant(f, p0, p1, n_max, rel_tol);"
   ]
  },
  {
   "cell_type": "code",
   "execution_count": 31,
   "metadata": {},
   "outputs": [
    {
     "name": "stdout",
     "output_type": "stream",
     "text": [
      " 1: p = -0.0203619909502, f(p) = -4.49638\n",
      " 2: p = -0.0406912564352, f(p) = 0.00708748\n",
      " 3: p = -0.0406592625777, f(p) = -5.70624e-06\n",
      " 4: p = -0.0406592883157, f(p) = -7.47846e-12\n"
     ]
    }
   ],
   "source": [
    "f(x) = 230*x^4 + 18*x^3 + 9*x^2 - 221*x - 9;\n",
    "p0 = -1;\n",
    "p1 = 0;\n",
    "rel_tol = 1e-6;\n",
    "n_max = 100;\n",
    "\n",
    "p = secant(f, p0, p1, n_max, rel_tol);"
   ]
  },
  {
   "cell_type": "markdown",
   "metadata": {},
   "source": [
    "## part c"
   ]
  },
  {
   "cell_type": "code",
   "execution_count": 32,
   "metadata": {},
   "outputs": [
    {
     "data": {
      "text/plain": [
       "muller (generic function with 1 method)"
      ]
     },
     "metadata": {},
     "output_type": "display_data"
    }
   ],
   "source": [
    "function muller(f, p0, p1, p2, n_max, rel_tol; verbose = true)\n",
    "    \n",
    "    converged = false;\n",
    "    p = p2;\n",
    "\n",
    "    for i in 1:n_max\n",
    "\n",
    "        # solve for the constants a, b, and c\n",
    "        c = f(p2);\n",
    "        A = [(p0-p2)^2 p0-p2; (p1-p2)^2 p1-p2 ];\n",
    "        x = A\\[f(p0)-c; f(p1)-c];\n",
    "        a = x[1];\n",
    "        b = x[2];\n",
    "        \n",
    "        # take the root with larger denominator\n",
    "        if abs(b + sqrt(b^2-4*a*c))> abs(b - sqrt(b^2-4*a*c))\n",
    "            p = p2 - 2*c/(b + sqrt(b^2-4*a*c));\n",
    "        else\n",
    "            p = p2 - 2*c/(b - sqrt(b^2-4*a*c));            \n",
    "        end\n",
    "        \n",
    "        if verbose\n",
    "            @printf(\" %d: p = %.15g + i %.15g, |f(p)| = %g\\n\", i, \n",
    "                real(p), imag(p), abs(f(p)));\n",
    "        end\n",
    "\n",
    "        \n",
    "        if (i>1)\n",
    "            if abs(p-p2)/abs(p)< rel_tol\n",
    "                converged = true;\n",
    "                break\n",
    "            end\n",
    "        end\n",
    "\n",
    "        # update entries\n",
    "        p0 = p1;\n",
    "        p1 = p2;\n",
    "        p2 = p;\n",
    "\n",
    "    end\n",
    "    \n",
    "    if !converged\n",
    "        @printf(\"ERROR: Did not converge after %d iterations\\n\", n_max);\n",
    "    end\n",
    "\n",
    "    return p\n",
    "    \n",
    "end"
   ]
  },
  {
   "cell_type": "code",
   "execution_count": 33,
   "metadata": {},
   "outputs": [
    {
     "name": "stdout",
     "output_type": "stream",
     "text": [
      " 1: p = 0.00792668512248133 + i 0, |f(p)| = 10.7512\n"
     ]
    },
    {
     "name": "stdout",
     "output_type": "stream",
     "text": [
      " 2: p = -0.0389266709197757 + i 0, |f(p)| = 0.384102\n",
      " 3: p = -0.0406592648750403 + i 0, |f(p)| = 5.19691e-06\n",
      " 4: p = -0.0406592883158286 + i 0, |f(p)| = 1.54579e-11\n"
     ]
    }
   ],
   "source": [
    "f(x) = 230*x^4 + 18*x^3 + 9*x^2 - 221*x - 9;\n",
    "\n",
    "p0 = -2\n",
    "p1 = -1;\n",
    "p2 = 0;\n",
    "\n",
    "rel_tol = 1e-6;\n",
    "n_max = 100;\n",
    "\n",
    "p = muller(f, p0, p1, p2, n_max, rel_tol);"
   ]
  },
  {
   "cell_type": "code",
   "execution_count": 34,
   "metadata": {},
   "outputs": [
    {
     "name": "stdout",
     "output_type": "stream",
     "text": [
      " 1: p = 0.983949082349461 + i 0, |f(p)| = 14.9926\n",
      " 2: p = 0.960752804805569 + i 0, |f(p)| = 1.09303\n",
      " 3: p = 0.962464045474489 + i 0, |f(p)| = 0.0437402\n",
      " 4: p = 0.962398421921513 + i 0, |f(p)| = 2.11317e-06\n",
      " 5: p = 0.962398418750542 + i 0, |f(p)| = 3.69482e-13\n"
     ]
    }
   ],
   "source": [
    "f(x) = 230*x^4 + 18*x^3 + 9*x^2 - 221*x - 9;\n",
    "\n",
    "p0 = 0\n",
    "p1 = 1;\n",
    "p2 = 2;\n",
    "\n",
    "rel_tol = 1e-6;\n",
    "n_max = 100;\n",
    "\n",
    "p = muller(f, p0, p1, p2, n_max, rel_tol);"
   ]
  },
  {
   "cell_type": "code",
   "execution_count": 35,
   "metadata": {},
   "outputs": [
    {
     "name": "stdout",
     "output_type": "stream",
     "text": [
      " 1: p = -0.59384647620523 + i -0.652944336667262, |f(p)| = 117.705\n",
      " 2: p = -0.464901117476971 + i -0.889624177080721, |f(p)| = 28.3156\n",
      " 3: p = -0.49462663647666 + i -0.869677858813927, |f(p)| = 4.31773\n",
      " 4: p = -0.500016793115442 + i -0.865941303814642, |f(p)| = 0.0569143\n",
      " 5: p = -0.500000001222932 + i -0.866025371432536, |f(p)| = 2.14883e-05\n",
      " 6: p = -0.50000000000002 + i -0.866025403784454, |f(p)| = 1.64487e-11\n"
     ]
    }
   ],
   "source": [
    "f(x) = 230*x^4 + 18*x^3 + 9*x^2 - 221*x - 9;\n",
    "p0 = -0.9 - 1*im;\n",
    "p1 = -0.3 - 1*im;\n",
    "p2 = -1 - 1*im;\n",
    "\n",
    "rel_tol = 1e-6;\n",
    "n_max = 100;\n",
    "\n",
    "p = muller(f, p0, p1, p2, n_max, rel_tol);"
   ]
  },
  {
   "cell_type": "code",
   "execution_count": 36,
   "metadata": {},
   "outputs": [
    {
     "name": "stdout",
     "output_type": "stream",
     "text": [
      " 1: p = -0.921047663063056 + i 0.718969415274924, |f(p)| = 385.488\n",
      " 2: p = -0.68680289823207 + i 0.937267253041728, |f(p)| = 180.024\n",
      " 3: p = -0.58241790691688 + i 0.913648461742274, |f(p)| = 74.3579\n",
      " 4: p = -0.503307061814207 + i 0.876576668546098, |f(p)| = 7.50196\n",
      " 5: p = -0.499689498558413 + i 0.86603795247068, |f(p)| = 0.2062\n",
      " 6: p = -0.500000426347521 + i 0.866025230739865, |f(p)| = 0.000305401\n",
      " 7: p = -0.500000000000619 + i 0.866025403782352, |f(p)| = 1.4444e-09\n"
     ]
    }
   ],
   "source": [
    "f(x) = 230*x^4 + 18*x^3 + 9*x^2 - 221*x - 9;\n",
    "p0 = 0+ 1*im;\n",
    "p1 = -1 + 1*im;\n",
    "p2 = -2 + 1*im;\n",
    "\n",
    "rel_tol = 1e-6;\n",
    "n_max = 100;\n",
    "\n",
    "p = muller(f, p0, p1, p2, n_max, rel_tol);"
   ]
  },
  {
   "cell_type": "markdown",
   "metadata": {},
   "source": [
    "## Question 3"
   ]
  },
  {
   "cell_type": "markdown",
   "metadata": {},
   "source": [
    "## part a"
   ]
  },
  {
   "cell_type": "code",
   "execution_count": 37,
   "metadata": {},
   "outputs": [
    {
     "name": "stdout",
     "output_type": "stream",
     "text": [
      "Error: 0.4757731615945522\n",
      "Error: 341.52422683840547\n",
      "Error: 2.253933861495501e25\n",
      "Error: 3.383854504272191e253\n",
      "Error: NaN\n",
      "Error: NaN\n",
      "Error: NaN\n",
      "Error: NaN\n",
      "Error: NaN\n",
      "Error: NaN\n",
      "Error: NaN\n",
      "Error: NaN\n",
      "Error: NaN\n",
      "Error: NaN\n",
      "Error: NaN\n",
      "Error: NaN\n",
      "Error: NaN\n",
      "Error: NaN\n",
      "Error: NaN\n",
      "Error: NaN\n",
      "Error: NaN\n",
      "Error: NaN\n",
      "Error: NaN\n",
      "Error: NaN\n",
      "Error: NaN\n",
      "Error: NaN\n",
      "Error: NaN\n",
      "Error: NaN\n",
      "Error: NaN\n",
      "Error: NaN\n",
      "Error: NaN\n",
      "Error: NaN\n",
      "Error: NaN\n",
      "Error: NaN\n",
      "Error: NaN\n",
      "Error: NaN\n",
      "Error: NaN\n",
      "Error: NaN\n",
      "Error: NaN\n",
      "Error: NaN\n",
      "Error: NaN\n",
      "Error: NaN\n",
      "Error: NaN\n",
      "Error: NaN\n",
      "Error: NaN\n",
      "Error: NaN\n",
      "Error: NaN\n",
      "Error: NaN\n",
      "Error: NaN\n",
      "Error: NaN\n",
      "Error: NaN\n",
      "Error: NaN\n",
      "Error: NaN\n",
      "Error: NaN\n",
      "Error: NaN\n",
      "Error: NaN\n",
      "Error: NaN\n",
      "Error: NaN\n",
      "Error: NaN\n",
      "Error: NaN\n",
      "Error: NaN\n",
      "Error: NaN\n",
      "Error: NaN\n",
      "Error: NaN\n",
      "Error: NaN\n",
      "Error: NaN\n",
      "Error: NaN\n",
      "Error: NaN\n",
      "Error: NaN\n",
      "Error: NaN\n",
      "Error: NaN\n",
      "Error: NaN\n",
      "Error: NaN\n",
      "Error: NaN\n",
      "Error: NaN\n",
      "Error: NaN\n",
      "Error: NaN\n",
      "Error: NaN\n",
      "Error: NaN\n",
      "Error: NaN\n",
      "Error: NaN\n",
      "Error: NaN\n",
      "Error: NaN\n",
      "Error: NaN\n",
      "Error: NaN\n",
      "Error: NaN\n",
      "Error: NaN\n",
      "Error: NaN\n",
      "Error: NaN\n",
      "Error: NaN\n",
      "Error: NaN\n",
      "Error: NaN\n",
      "Error: NaN\n",
      "Error: NaN\n",
      "Error: NaN\n",
      "Error: NaN\n",
      "Error: NaN\n",
      "Error: NaN\n",
      "Error: NaN\n",
      "Error: NaN\n",
      "Error: NaN\n",
      "Function diverges\n"
     ]
    }
   ],
   "source": [
    "function a(p, tolerance, maxn)\n",
    "    \n",
    "    # print out the absolute error of the approximation\n",
    "    println(\"Error: \", abs(p - (7^(1/5))))\n",
    "    # if the absolute error is within the tolerance,\n",
    "    # print number of iterations and the approximation\n",
    "    if abs(p - (7^(1/5))) == 0\n",
    "        println(\"Iterations: \", 100 - maxn)\n",
    "        println(\"Actual Value: \", 7^(1/5))\n",
    "        println(\"Approximation: \", p)\n",
    "    elseif maxn == 0\n",
    "        println(\"Function diverges\")\n",
    "    # recalculate new approximation\n",
    "    else\n",
    "        maxn = maxn - 1\n",
    "        new_p = p * ((1+((7-(p^5))/(p^2)))^3)\n",
    "        c(new_p, tolerance, maxn)\n",
    "    end\n",
    "end\n",
    "\n",
    "a(1, 10^-8, 100)"
   ]
  },
  {
   "cell_type": "markdown",
   "metadata": {},
   "source": [
    "## part b"
   ]
  },
  {
   "cell_type": "code",
   "execution_count": 38,
   "metadata": {},
   "outputs": [
    {
     "name": "stdout",
     "output_type": "stream",
     "text": [
      "Error: 0.4757731615945522\n",
      "Error: 5.524226838405448\n",
      "Error: 2.796610720267935e8\n",
      "Error: 2.9263088323271037e84\n",
      "Error: Inf\n",
      "Error: NaN\n",
      "Error: NaN\n",
      "Error: NaN\n",
      "Error: NaN\n",
      "Error: NaN\n",
      "Error: NaN\n",
      "Error: NaN\n",
      "Error: NaN\n",
      "Error: NaN\n",
      "Error: NaN\n",
      "Error: NaN\n",
      "Error: NaN\n",
      "Error: NaN\n",
      "Error: NaN\n",
      "Error: NaN\n",
      "Error: NaN\n",
      "Error: NaN\n",
      "Error: NaN\n",
      "Error: NaN\n",
      "Error: NaN\n",
      "Error: NaN\n",
      "Error: NaN\n",
      "Error: NaN\n",
      "Error: NaN\n",
      "Error: NaN\n",
      "Error: NaN\n",
      "Error: NaN\n",
      "Error: NaN\n",
      "Error: NaN\n",
      "Error: NaN\n",
      "Error: NaN\n",
      "Error: NaN\n",
      "Error: NaN\n",
      "Error: NaN\n",
      "Error: NaN\n",
      "Error: NaN\n",
      "Error: NaN\n",
      "Error: NaN\n",
      "Error: NaN\n",
      "Error: NaN\n"
     ]
    },
    {
     "name": "stdout",
     "output_type": "stream",
     "text": [
      "Error: NaN\n",
      "Error: NaN\n",
      "Error: NaN\n",
      "Error: NaN\n",
      "Error: NaN\n",
      "Error: NaN\n",
      "Error: NaN\n",
      "Error: NaN\n",
      "Error: NaN\n",
      "Error: NaN\n",
      "Error: NaN\n",
      "Error: NaN\n",
      "Error: NaN\n",
      "Error: NaN\n",
      "Error: NaN\n",
      "Error: NaN\n",
      "Error: NaN\n",
      "Error: NaN\n",
      "Error: NaN\n",
      "Error: NaN\n",
      "Error: NaN\n",
      "Error: NaN\n",
      "Error: NaN\n",
      "Error: NaN\n",
      "Error: NaN\n",
      "Error: NaN\n",
      "Error: NaN\n",
      "Error: NaN\n",
      "Error: NaN\n",
      "Error: NaN\n",
      "Error: NaN\n",
      "Error: NaN\n",
      "Error: NaN\n",
      "Error: NaN\n",
      "Error: NaN\n",
      "Error: NaN\n",
      "Error: NaN\n",
      "Error: NaN\n",
      "Error: NaN\n",
      "Error: NaN\n",
      "Error: NaN\n",
      "Error: NaN\n",
      "Error: NaN\n",
      "Error: NaN\n",
      "Error: NaN\n",
      "Error: NaN\n",
      "Error: NaN\n",
      "Error: NaN\n",
      "Error: NaN\n",
      "Error: NaN\n",
      "Error: NaN\n",
      "Error: NaN\n",
      "Error: NaN\n",
      "Error: NaN\n",
      "Error: NaN\n",
      "Error: NaN\n",
      "Function diverges\n"
     ]
    }
   ],
   "source": [
    "function b(p, tolerance, maxn)\n",
    "    \n",
    "    # print out the absolute error of the approximation\n",
    "    println(\"Error: \", abs(p - (7^(1/5))))\n",
    "    # if the absolute error is within the tolerance,\n",
    "    # print number of iterations and the approximation\n",
    "    if abs(p - (7^(1/5))) == 0\n",
    "        println(\"Iterations: \", 100 - maxn)\n",
    "        println(\"Actual Value: \", 7^(1/5))\n",
    "        println(\"Approximation: \", p)\n",
    "    elseif maxn == 0\n",
    "        println(\"Function diverges\")\n",
    "    # recalculate new approximation\n",
    "    else\n",
    "        maxn = maxn - 1\n",
    "        new_p = p - (((p^5)-7)/(p^2))\n",
    "        c(new_p, tolerance, maxn)\n",
    "    end\n",
    "end\n",
    "\n",
    "b(1, 10^-8, 100)"
   ]
  },
  {
   "cell_type": "markdown",
   "metadata": {},
   "source": [
    "## part c"
   ]
  },
  {
   "cell_type": "code",
   "execution_count": 39,
   "metadata": {},
   "outputs": [
    {
     "name": "stdout",
     "output_type": "stream",
     "text": [
      "Error: 0.4757731615945522\n",
      "Error: 0.724226838405448\n",
      "Error: 0.3439905157498917\n",
      "Error: 0.10770166830160921\n",
      "Error: 0.0136878125508757\n",
      "Error: 0.0002492745373088301\n",
      "Error: 8.418205599269868e-8\n",
      "Error: 9.547918011776346e-15\n",
      "Error: 2.220446049250313e-16\n",
      "Error: 0.0\n",
      "Iterations: 9\n",
      "Actual Value: 1.4757731615945522\n",
      "Approximation: 1.4757731615945522\n"
     ]
    }
   ],
   "source": [
    "function c(p, tolerance, maxn)\n",
    "    \n",
    "    # print out the absolute error of the approximation\n",
    "    println(\"Error: \", abs(p - (7^(1/5))))\n",
    "    # if the absolute error is within the tolerance,\n",
    "    # print number of iterations and the approximation\n",
    "    if abs(p - (7^(1/5))) == 0\n",
    "        println(\"Iterations: \", 100 - maxn)\n",
    "        println(\"Actual Value: \", 7^(1/5))\n",
    "        println(\"Approximation: \", p)\n",
    "    elseif maxn == 0\n",
    "        println(\"Function diverges\")\n",
    "    # increment number of iterations\n",
    "    # decrement max loops\n",
    "    # recalculate new approximation\n",
    "    else\n",
    "        maxn = maxn - 1\n",
    "        new_p = p - (((p^5)-7)/(5*(p^4)))\n",
    "        c(new_p, tolerance, maxn)\n",
    "    end\n",
    "end\n",
    "\n",
    "\n",
    "# test function with provided initial p = 1,\n",
    "# iterations = 0,\n",
    "# a very tight tolerance (as close to zero as possible),\n",
    "# and a sample number of loops (enough to see\n",
    "# convergence or divergence)\n",
    "c(1, 10^-8, 100)"
   ]
  },
  {
   "cell_type": "markdown",
   "metadata": {},
   "source": [
    "## part d"
   ]
  },
  {
   "cell_type": "code",
   "execution_count": 40,
   "metadata": {},
   "outputs": [
    {
     "name": "stdout",
     "output_type": "stream",
     "text": [
      "Error: 0.4757731615945522\n",
      "Error: 0.024226838405447815\n",
      "Error: 0.0007700482819910093\n",
      "Error: 8.027739175631154e-7\n",
      "Error: 8.733014311701481e-13\n",
      "Error: 0.0\n",
      "Iterations: 95\n",
      "Actual Value: 1.4757731615945522\n",
      "Approximation: 1.4757731615945522\n"
     ]
    }
   ],
   "source": [
    "function d(p, tolerance, maxn)\n",
    "    \n",
    "    # print out the absolute error of the approximation\n",
    "    println(\"Error: \", abs(p - (7^(1/5))))\n",
    "    # if the absolute error is within the tolerance,\n",
    "    # print number of iterations and the approximation\n",
    "    if abs(p - (7^(1/5))) == 0\n",
    "        println(\"Iterations: \", 100 - maxn)\n",
    "        println(\"Actual Value: \", 7^(1/5))\n",
    "        println(\"Approximation: \", p)\n",
    "    elseif maxn == 0\n",
    "        println(\"Function diverges\")\n",
    "    # recalculate new approximation\n",
    "    else\n",
    "        maxn = maxn - 1\n",
    "        new_p = p - (((p^5)-7)/12)\n",
    "        c(new_p, tolerance, maxn)\n",
    "    end\n",
    "end\n",
    "\n",
    "d(1, 10^-8, 100)"
   ]
  },
  {
   "cell_type": "markdown",
   "metadata": {},
   "source": [
    "fastest to slowest convergence\n",
    "\n",
    "c -> d -> b -> a\n",
    "\n",
    "we can also observe that b and c will never converge."
   ]
  }
 ],
 "metadata": {
  "kernelspec": {
   "display_name": "Julia 1.8.1",
   "language": "julia",
   "name": "julia-1.8"
  },
  "language_info": {
   "file_extension": ".jl",
   "mimetype": "application/julia",
   "name": "julia",
   "version": "1.8.1"
  },
  "orig_nbformat": 4,
  "vscode": {
   "interpreter": {
    "hash": "81794d4967e6c3204c66dcd87b604927b115b27c00565d3d43f05ba2f3a2cb0d"
   }
  }
 },
 "nbformat": 4,
 "nbformat_minor": 2
}
