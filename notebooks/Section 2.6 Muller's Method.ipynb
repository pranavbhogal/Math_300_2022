{
 "cells": [
  {
   "cell_type": "markdown",
   "id": "d5b9bce4-3cda-486d-830e-160d57debf5a",
   "metadata": {},
   "source": [
    "# Muller's Method for Complex Roots"
   ]
  },
  {
   "cell_type": "code",
   "execution_count": 3,
   "id": "e12e8e5a-eaab-4991-84aa-072031c5d638",
   "metadata": {},
   "outputs": [],
   "source": [
    "using Printf"
   ]
  },
  {
   "cell_type": "code",
   "execution_count": 8,
   "id": "ac081d6e-7ec8-4994-b910-058dfdeeec2a",
   "metadata": {},
   "outputs": [
    {
     "data": {
      "text/plain": [
       "newton (generic function with 1 method)"
      ]
     },
     "metadata": {},
     "output_type": "display_data"
    }
   ],
   "source": [
    "function newton(f, df, p0, n_max, rel_tol; verbose = true)\n",
    "    \n",
    "    converged = false;\n",
    "    p = p0;\n",
    "    p_old = p0;\n",
    "\n",
    "    for i in 1:n_max\n",
    "\n",
    "        p = p_old - f(p_old)/df(p_old);\n",
    "        \n",
    "        if verbose\n",
    "            @printf(\" %d: p = %.15g + i %.15g, |f(p)| = %g\\n\", i, real(p), imag(p), abs(f(p)));\n",
    "        end\n",
    "\n",
    "        \n",
    "        if (i>1)\n",
    "            if abs(p-p_old)/abs(p)< rel_tol\n",
    "                converged = true;\n",
    "                break\n",
    "            end\n",
    "        end\n",
    "\n",
    "        p_old = p;\n",
    "\n",
    "    end\n",
    "    \n",
    "    if !converged\n",
    "        @printf(\"ERROR: Did not converge after %d iterations\\n\", n_max);\n",
    "    end\n",
    "\n",
    "    return p\n",
    "    \n",
    "end"
   ]
  },
  {
   "cell_type": "code",
   "execution_count": 4,
   "id": "2f8727f3-417e-432c-b5e5-3bef53dee5aa",
   "metadata": {},
   "outputs": [
    {
     "data": {
      "text/plain": [
       "muller (generic function with 1 method)"
      ]
     },
     "metadata": {},
     "output_type": "display_data"
    }
   ],
   "source": [
    "function muller(f, p0, p1, p2, n_max, rel_tol; verbose = true)\n",
    "    \n",
    "    converged = false;\n",
    "    p = p2;\n",
    "\n",
    "    for i in 1:n_max\n",
    "\n",
    "        # solve for the constants a, b, and c\n",
    "        c = f(p2);\n",
    "        A = [(p0-p2)^2 p0-p2; (p1-p2)^2 p1-p2 ];\n",
    "        x = A\\[f(p0)-c; f(p1)-c];\n",
    "        a = x[1];\n",
    "        b = x[2];\n",
    "        \n",
    "        # take the root with larger denominator\n",
    "        if abs(b + sqrt(b^2-4*a*c))> abs(b - sqrt(b^2-4*a*c))\n",
    "            p = p2 - 2*c/(b + sqrt(b^2-4*a*c));\n",
    "        else\n",
    "            p = p2 - 2*c/(b - sqrt(b^2-4*a*c));            \n",
    "        end\n",
    "        \n",
    "        if verbose\n",
    "            @printf(\" %d: p = %.15g + i %.15g, |f(p)| = %g\\n\", i, \n",
    "                real(p), imag(p), abs(f(p)));\n",
    "        end\n",
    "\n",
    "        \n",
    "        if (i>1)\n",
    "            if abs(p-p2)/abs(p)< rel_tol\n",
    "                converged = true;\n",
    "                break\n",
    "            end\n",
    "        end\n",
    "\n",
    "        # update entries\n",
    "        p0 = p1;\n",
    "        p1 = p2;\n",
    "        p2 = p;\n",
    "\n",
    "    end\n",
    "    \n",
    "    if !converged\n",
    "        @printf(\"ERROR: Did not converge after %d iterations\\n\", n_max);\n",
    "    end\n",
    "\n",
    "    return p\n",
    "    \n",
    "end"
   ]
  },
  {
   "cell_type": "markdown",
   "id": "03b5a74a-49fb-49f6-9a39-041a93834928",
   "metadata": {},
   "source": [
    "## Example 1\n",
    "Find a complex root of\n",
    "$$\n",
    "x^3 -1\n",
    "$$"
   ]
  },
  {
   "cell_type": "code",
   "execution_count": 9,
   "id": "7954775d-0dbb-4454-a832-f6d82d9a7915",
   "metadata": {},
   "outputs": [
    {
     "name": "stdout",
     "output_type": "stream",
     "text": [
      " 1: p = -0.333333333333333 + i 0.666666666666667, |f(p)| = 0.597204\n",
      " 2: p = -0.582222222222222 + i 0.924444444444444, |f(p)| = 0.331281\n",
      " 3: p = -0.508790803289319 + i 0.868165511887349, |f(p)| = 0.0273128\n",
      " 4: p = -0.500068739067393 + i 0.86598221869254, |f(p)| = 0.000243536\n",
      " 5: p = -0.49999999628903 + i 0.866025398338587, |f(p)| = 1.97701e-08\n",
      " 6: p = -0.5 + i 0.866025403784439, |f(p)| = 2.48253e-16\n"
     ]
    }
   ],
   "source": [
    "f = x-> x^3 - 1;\n",
    "df = x->3*x^2;\n",
    "p0 = 0+1 * im;\n",
    "rel_tol = 1e-8;\n",
    "n_max = 100;\n",
    "\n",
    "p = newton(f, df, p0, n_max, rel_tol);"
   ]
  },
  {
   "cell_type": "code",
   "execution_count": 10,
   "id": "9b523377-c5b6-4358-9c70-8b8688a16d6b",
   "metadata": {},
   "outputs": [
    {
     "name": "stdout",
     "output_type": "stream",
     "text": [
      " 1: p = -0.600525841974518 + i 0.880325027052154, |f(p)| = 0.324439\n",
      " 2: p = -0.518408557525875 + i 0.863539196286663, |f(p)| = 0.0561237\n",
      " 3: p = -0.49918443472079 + i 0.866109879684845, |f(p)| = 0.00245896\n",
      " 4: p = -0.499999700450554 + i 0.866024984436291, |f(p)| = 1.54604e-06\n",
      " 5: p = -0.499999999999507 + i 0.866025403787008, |f(p)| = 7.8492e-12\n",
      " 6: p = -0.5 + i 0.866025403784439, |f(p)| = 2.48253e-16\n"
     ]
    }
   ],
   "source": [
    "f = x-> x^3 - 1;\n",
    "p0 = -1. + 1*im;\n",
    "p1 = 0. + 1*im;\n",
    "p2 = 0. + 2*im;\n",
    "\n",
    "rel_tol = 1e-8;\n",
    "n_max = 100;\n",
    "\n",
    "p = muller(f, p0, p1, p2, n_max, rel_tol);"
   ]
  },
  {
   "cell_type": "markdown",
   "id": "58807ea9-3528-45a8-9738-5c33235ecb5f",
   "metadata": {},
   "source": [
    "## Example 2\n",
    "Find a complex root of\n",
    "$$\n",
    "x^4 - 3x^3+x^2+x+1\n",
    "$$"
   ]
  },
  {
   "cell_type": "code",
   "execution_count": 7,
   "id": "d2f037ad-06b5-4202-a49e-347efc71d8a5",
   "metadata": {},
   "outputs": [
    {
     "name": "stdout",
     "output_type": "stream",
     "text": [
      " 1: p = -0.513171883435357 + i 0.00438249369142873, |f(p)| = 1.22488\n",
      " 2: p = -0.404046513574298 + i -0.01781023827508, |f(p)| = 0.982346\n",
      " 3: p = -0.345664734202404 + i -0.0285785082491035, |f(p)| = 0.908445\n",
      " 4: p = -0.275188308512564 + i -0.3931785375768, |f(p)| = 0.311313\n",
      " 5: p = -0.326577153926158 + i -0.457201949978376, |f(p)| = 0.0698229\n",
      " 6: p = -0.3397143179631 + i -0.446570669049923, |f(p)| = 0.00265512\n",
      " 7: p = -0.339092963388625 + i -0.446631017924121, |f(p)| = 3.93828e-06\n",
      " 8: p = -0.339092837767706 + i -0.446630099988921, |f(p)| = 4.45528e-11\n",
      " 9: p = -0.33909283776171 + i -0.446630099997518, |f(p)| = 2.28878e-16\n"
     ]
    }
   ],
   "source": [
    "f = x-> x^4-3*x^3 +x^2 +x + 1;\n",
    "p0 = 0.5 + 0*im;\n",
    "p1 = -0.5 + 0*im;\n",
    "p2 = 0.0 + 9*im;\n",
    "\n",
    "rel_tol = 1e-8;\n",
    "n_max = 100;\n",
    "\n",
    "p = muller(f, p0, p1, p2, n_max, rel_tol);"
   ]
  },
  {
   "cell_type": "code",
   "execution_count": null,
   "id": "560e28b4-df64-4ac7-a7c5-00b32234abc2",
   "metadata": {},
   "outputs": [],
   "source": []
  }
 ],
 "metadata": {
  "kernelspec": {
   "display_name": "Julia 1.8.1",
   "language": "julia",
   "name": "julia-1.8"
  },
  "language_info": {
   "file_extension": ".jl",
   "mimetype": "application/julia",
   "name": "julia",
   "version": "1.8.1"
  }
 },
 "nbformat": 4,
 "nbformat_minor": 5
}
